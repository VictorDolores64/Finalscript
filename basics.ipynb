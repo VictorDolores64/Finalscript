{
 "cells": [
  {
   "cell_type": "code",
   "execution_count": null,
   "metadata": {},
   "outputs": [
    {
     "name": "stdout",
     "output_type": "stream",
     "text": [
      "Hola Juanelo\n"
     ]
    }
   ],
   "source": [
    "print('Hola Mundo')"
   ]
  },
  {
   "cell_type": "code",
   "execution_count": 10,
   "metadata": {},
   "outputs": [],
   "source": [
    "age = 31\n",
    "temperature = 38.9\n",
    "name = \"Prode Python\"\n",
    "is_cool = True\n",
    "numbers = [1,2,3,4,5,6]\n",
    "tupla = (\"Uno\",\"Dos\",\"Tres\")\n",
    "series = set([1,2,3,4,5,6,1]) #Los sets no repiten valores"
   ]
  },
  {
   "cell_type": "code",
   "execution_count": 11,
   "metadata": {},
   "outputs": [
    {
     "name": "stdout",
     "output_type": "stream",
     "text": [
      "<class 'int'>\n",
      "<class 'bool'>\n",
      "<class 'list'>\n",
      "<class 'float'>\n",
      "{1, 2, 3, 4, 5, 6}\n"
     ]
    }
   ],
   "source": [
    "print(type(age))\n",
    "print(type(is_cool))\n",
    "print(type(numbers))\n",
    "print(type(temperature))\n",
    "print(series)\n"
   ]
  },
  {
   "cell_type": "code",
   "execution_count": null,
   "metadata": {},
   "outputs": [],
   "source": []
  },
  {
   "attachments": {},
   "cell_type": "markdown",
   "metadata": {},
   "source": [
    "### Operadores\n",
    "\n",
    "1. +\n",
    "2. -\n",
    "3. *\n",
    "4. /\n",
    "5. //\n",
    "6. %"
   ]
  },
  {
   "cell_type": "code",
   "execution_count": 12,
   "metadata": {},
   "outputs": [
    {
     "name": "stdout",
     "output_type": "stream",
     "text": [
      "0\n"
     ]
    }
   ],
   "source": [
    "print(6%2)"
   ]
  },
  {
   "cell_type": "code",
   "execution_count": 13,
   "metadata": {},
   "outputs": [
    {
     "name": "stdout",
     "output_type": "stream",
     "text": [
      "6\n"
     ]
    }
   ],
   "source": [
    "print(25//4)"
   ]
  },
  {
   "cell_type": "code",
   "execution_count": 14,
   "metadata": {},
   "outputs": [
    {
     "name": "stdout",
     "output_type": "stream",
     "text": [
      "6.25\n"
     ]
    }
   ],
   "source": [
    "print(25/4)"
   ]
  },
  {
   "cell_type": "code",
   "execution_count": 15,
   "metadata": {},
   "outputs": [
    {
     "name": "stdout",
     "output_type": "stream",
     "text": [
      "Wohooo!Wohooo!Wohooo!Wohooo!Wohooo!\n"
     ]
    }
   ],
   "source": [
    "print('Wohooo!' * 5)"
   ]
  },
  {
   "cell_type": "code",
   "execution_count": 17,
   "metadata": {},
   "outputs": [
    {
     "name": "stdout",
     "output_type": "stream",
     "text": [
      "Eres mayor de edad\n"
     ]
    }
   ],
   "source": [
    "age = int(input(\"Dame tu edad: \"))\n",
    "\n",
    "def isAdult(age):\n",
    "    if age > 18:\n",
    "        print('Eres mayor de edad')\n",
    "    else:\n",
    "        print('Eres menor de edad')\n",
    "\n",
    "isAdult(age)"
   ]
  },
  {
   "attachments": {},
   "cell_type": "markdown",
   "metadata": {},
   "source": [
    "## Guess a number please\n",
    "\n",
    "1. Elegir un numero random (PC)\n",
    "2. Yo le digo un numero\n",
    "3. Si el numero es mas grande le digo que esta high \n",
    "4. Si el numero es mas chico le digo que esta low "
   ]
  },
  {
   "cell_type": "code",
   "execution_count": 21,
   "metadata": {},
   "outputs": [
    {
     "name": "stdout",
     "output_type": "stream",
     "text": [
      "El numero al azar es: 57\n",
      "Te huiste muy abajo\n",
      "Te huiste muy arriba\n",
      "Felicidades el numero era: 57\n"
     ]
    }
   ],
   "source": [
    "import random as azar\n",
    "\n",
    "def guess(top):\n",
    "    random_number = azar.randint(1, top)\n",
    "    guess=0\n",
    "    print (f\"El numero al azar es: {random_number}\")\n",
    "    while guess != random_number:\n",
    "        guess = int(input(\"Adivina el numero: \"))\n",
    "        if guess > random_number:\n",
    "            print(\"Te huiste muy arriba\")\n",
    "        elif guess < random_number:\n",
    "            print(\"Te huiste muy abajo\") \n",
    "    print(f\"Felicidades el numero era: {guess}\")\n",
    "\n",
    "guess(100)    "
   ]
  },
  {
   "attachments": {},
   "cell_type": "markdown",
   "metadata": {},
   "source": [
    "### Consumir una API con python (primera parte)\n",
    "Libreria request "
   ]
  },
  {
   "cell_type": "code",
   "execution_count": 22,
   "metadata": {},
   "outputs": [
    {
     "name": "stdout",
     "output_type": "stream",
     "text": [
      "<!DOCTYPE html>\n",
      "<html>\n",
      "<body>\n",
      "\n",
      "<h1>This is a Test Page</h1>\n",
      "\n",
      "</body>\n",
      "</html>\n"
     ]
    }
   ],
   "source": [
    "import requests\n",
    "\n",
    "x = requests.get('https://jsonplaceholder.typicode.com/')\n",
    "\n",
    "print(x.text)"
   ]
  }
 ],
 "metadata": {
  "kernelspec": {
   "display_name": "Python 3 (ipykernel)",
   "language": "python",
   "name": "python3"
  },
  "language_info": {
   "codemirror_mode": {
    "name": "ipython",
    "version": 3
   },
   "file_extension": ".py",
   "mimetype": "text/x-python",
   "name": "python",
   "nbconvert_exporter": "python",
   "pygments_lexer": "ipython3",
   "version": "3.11.1"
  },
  "orig_nbformat": 4
 },
 "nbformat": 4,
 "nbformat_minor": 2
}
